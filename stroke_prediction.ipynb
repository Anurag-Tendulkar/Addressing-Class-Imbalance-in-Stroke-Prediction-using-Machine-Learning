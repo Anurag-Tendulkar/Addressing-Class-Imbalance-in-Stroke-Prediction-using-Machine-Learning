{
  "nbformat": 4,
  "nbformat_minor": 0,
  "metadata": {
    "colab": {
      "provenance": [],
      "include_colab_link": true
    },
    "kernelspec": {
      "name": "python3",
      "display_name": "Python 3"
    },
    "language_info": {
      "name": "python"
    }
  },
  "cells": [
    {
      "cell_type": "markdown",
      "metadata": {
        "id": "view-in-github",
        "colab_type": "text"
      },
      "source": [
        "<a href=\"https://colab.research.google.com/github/Anurag-Tendulkar/Addressing-Class-Imbalance-in-Stroke-Prediction-using-Machine-Learning/blob/main/stroke_prediction.ipynb\" target=\"_parent\"><img src=\"https://colab.research.google.com/assets/colab-badge.svg\" alt=\"Open In Colab\"/></a>"
      ]
    },
    {
      "cell_type": "markdown",
      "source": [
        "Aim - To develop a predictive model to successively identify strokes in the population."
      ],
      "metadata": {
        "id": "cQ9FAgWOcdvt"
      }
    },
    {
      "cell_type": "code",
      "execution_count": null,
      "metadata": {
        "id": "DB3HfzlwXFTF"
      },
      "outputs": [],
      "source": [
        "import numpy as np\n",
        "import pandas as pd\n",
        "import matplotlib.pyplot as plt"
      ]
    },
    {
      "cell_type": "code",
      "source": [
        "# please import the dataset in colab before executing the code\n",
        "dataset = pd.read_csv('stroke data.csv')\n",
        "dataset.head()"
      ],
      "metadata": {
        "colab": {
          "base_uri": "https://localhost:8080/",
          "height": 206
        },
        "id": "Pkfdrg4YXMbX",
        "outputId": "5f8181dc-0f3a-46ca-8304-3e5762d0f630"
      },
      "execution_count": null,
      "outputs": [
        {
          "output_type": "execute_result",
          "data": {
            "text/plain": [
              "   id  gender   age married  hypertension  heart_disease occupation residence  \\\n",
              "0   1    Male   3.0      No             0              0          A     Rural   \n",
              "1   2    Male  58.0     Yes             1              0          B     Urban   \n",
              "2   3  Female   8.0      No             0              0          B     Urban   \n",
              "3   4  Female  70.0     Yes             0              0          B     Rural   \n",
              "4   5    Male  14.0      No             0              0          C     Rural   \n",
              "\n",
              "   metric_1  metric_2  metric_3  metric_4  metric_5   smoking_status  stroke  \n",
              "0     95.12      18.0         1     99.35     95.12              NaN       0  \n",
              "1     87.96      39.2         1     99.70     87.96     never smoked       0  \n",
              "2    110.89      17.6         0     96.35    110.89              NaN       0  \n",
              "3     69.04      35.9         0     95.52     69.04  formerly smoked       0  \n",
              "4    161.28      19.1         1     95.10    161.28              NaN       0  "
            ],
            "text/html": [
              "\n",
              "  <div id=\"df-5f4fdc32-9d70-40fb-947f-7ec0a9801210\">\n",
              "    <div class=\"colab-df-container\">\n",
              "      <div>\n",
              "<style scoped>\n",
              "    .dataframe tbody tr th:only-of-type {\n",
              "        vertical-align: middle;\n",
              "    }\n",
              "\n",
              "    .dataframe tbody tr th {\n",
              "        vertical-align: top;\n",
              "    }\n",
              "\n",
              "    .dataframe thead th {\n",
              "        text-align: right;\n",
              "    }\n",
              "</style>\n",
              "<table border=\"1\" class=\"dataframe\">\n",
              "  <thead>\n",
              "    <tr style=\"text-align: right;\">\n",
              "      <th></th>\n",
              "      <th>id</th>\n",
              "      <th>gender</th>\n",
              "      <th>age</th>\n",
              "      <th>married</th>\n",
              "      <th>hypertension</th>\n",
              "      <th>heart_disease</th>\n",
              "      <th>occupation</th>\n",
              "      <th>residence</th>\n",
              "      <th>metric_1</th>\n",
              "      <th>metric_2</th>\n",
              "      <th>metric_3</th>\n",
              "      <th>metric_4</th>\n",
              "      <th>metric_5</th>\n",
              "      <th>smoking_status</th>\n",
              "      <th>stroke</th>\n",
              "    </tr>\n",
              "  </thead>\n",
              "  <tbody>\n",
              "    <tr>\n",
              "      <th>0</th>\n",
              "      <td>1</td>\n",
              "      <td>Male</td>\n",
              "      <td>3.0</td>\n",
              "      <td>No</td>\n",
              "      <td>0</td>\n",
              "      <td>0</td>\n",
              "      <td>A</td>\n",
              "      <td>Rural</td>\n",
              "      <td>95.12</td>\n",
              "      <td>18.0</td>\n",
              "      <td>1</td>\n",
              "      <td>99.35</td>\n",
              "      <td>95.12</td>\n",
              "      <td>NaN</td>\n",
              "      <td>0</td>\n",
              "    </tr>\n",
              "    <tr>\n",
              "      <th>1</th>\n",
              "      <td>2</td>\n",
              "      <td>Male</td>\n",
              "      <td>58.0</td>\n",
              "      <td>Yes</td>\n",
              "      <td>1</td>\n",
              "      <td>0</td>\n",
              "      <td>B</td>\n",
              "      <td>Urban</td>\n",
              "      <td>87.96</td>\n",
              "      <td>39.2</td>\n",
              "      <td>1</td>\n",
              "      <td>99.70</td>\n",
              "      <td>87.96</td>\n",
              "      <td>never smoked</td>\n",
              "      <td>0</td>\n",
              "    </tr>\n",
              "    <tr>\n",
              "      <th>2</th>\n",
              "      <td>3</td>\n",
              "      <td>Female</td>\n",
              "      <td>8.0</td>\n",
              "      <td>No</td>\n",
              "      <td>0</td>\n",
              "      <td>0</td>\n",
              "      <td>B</td>\n",
              "      <td>Urban</td>\n",
              "      <td>110.89</td>\n",
              "      <td>17.6</td>\n",
              "      <td>0</td>\n",
              "      <td>96.35</td>\n",
              "      <td>110.89</td>\n",
              "      <td>NaN</td>\n",
              "      <td>0</td>\n",
              "    </tr>\n",
              "    <tr>\n",
              "      <th>3</th>\n",
              "      <td>4</td>\n",
              "      <td>Female</td>\n",
              "      <td>70.0</td>\n",
              "      <td>Yes</td>\n",
              "      <td>0</td>\n",
              "      <td>0</td>\n",
              "      <td>B</td>\n",
              "      <td>Rural</td>\n",
              "      <td>69.04</td>\n",
              "      <td>35.9</td>\n",
              "      <td>0</td>\n",
              "      <td>95.52</td>\n",
              "      <td>69.04</td>\n",
              "      <td>formerly smoked</td>\n",
              "      <td>0</td>\n",
              "    </tr>\n",
              "    <tr>\n",
              "      <th>4</th>\n",
              "      <td>5</td>\n",
              "      <td>Male</td>\n",
              "      <td>14.0</td>\n",
              "      <td>No</td>\n",
              "      <td>0</td>\n",
              "      <td>0</td>\n",
              "      <td>C</td>\n",
              "      <td>Rural</td>\n",
              "      <td>161.28</td>\n",
              "      <td>19.1</td>\n",
              "      <td>1</td>\n",
              "      <td>95.10</td>\n",
              "      <td>161.28</td>\n",
              "      <td>NaN</td>\n",
              "      <td>0</td>\n",
              "    </tr>\n",
              "  </tbody>\n",
              "</table>\n",
              "</div>\n",
              "      <button class=\"colab-df-convert\" onclick=\"convertToInteractive('df-5f4fdc32-9d70-40fb-947f-7ec0a9801210')\"\n",
              "              title=\"Convert this dataframe to an interactive table.\"\n",
              "              style=\"display:none;\">\n",
              "        \n",
              "  <svg xmlns=\"http://www.w3.org/2000/svg\" height=\"24px\"viewBox=\"0 0 24 24\"\n",
              "       width=\"24px\">\n",
              "    <path d=\"M0 0h24v24H0V0z\" fill=\"none\"/>\n",
              "    <path d=\"M18.56 5.44l.94 2.06.94-2.06 2.06-.94-2.06-.94-.94-2.06-.94 2.06-2.06.94zm-11 1L8.5 8.5l.94-2.06 2.06-.94-2.06-.94L8.5 2.5l-.94 2.06-2.06.94zm10 10l.94 2.06.94-2.06 2.06-.94-2.06-.94-.94-2.06-.94 2.06-2.06.94z\"/><path d=\"M17.41 7.96l-1.37-1.37c-.4-.4-.92-.59-1.43-.59-.52 0-1.04.2-1.43.59L10.3 9.45l-7.72 7.72c-.78.78-.78 2.05 0 2.83L4 21.41c.39.39.9.59 1.41.59.51 0 1.02-.2 1.41-.59l7.78-7.78 2.81-2.81c.8-.78.8-2.07 0-2.86zM5.41 20L4 18.59l7.72-7.72 1.47 1.35L5.41 20z\"/>\n",
              "  </svg>\n",
              "      </button>\n",
              "      \n",
              "  <style>\n",
              "    .colab-df-container {\n",
              "      display:flex;\n",
              "      flex-wrap:wrap;\n",
              "      gap: 12px;\n",
              "    }\n",
              "\n",
              "    .colab-df-convert {\n",
              "      background-color: #E8F0FE;\n",
              "      border: none;\n",
              "      border-radius: 50%;\n",
              "      cursor: pointer;\n",
              "      display: none;\n",
              "      fill: #1967D2;\n",
              "      height: 32px;\n",
              "      padding: 0 0 0 0;\n",
              "      width: 32px;\n",
              "    }\n",
              "\n",
              "    .colab-df-convert:hover {\n",
              "      background-color: #E2EBFA;\n",
              "      box-shadow: 0px 1px 2px rgba(60, 64, 67, 0.3), 0px 1px 3px 1px rgba(60, 64, 67, 0.15);\n",
              "      fill: #174EA6;\n",
              "    }\n",
              "\n",
              "    [theme=dark] .colab-df-convert {\n",
              "      background-color: #3B4455;\n",
              "      fill: #D2E3FC;\n",
              "    }\n",
              "\n",
              "    [theme=dark] .colab-df-convert:hover {\n",
              "      background-color: #434B5C;\n",
              "      box-shadow: 0px 1px 3px 1px rgba(0, 0, 0, 0.15);\n",
              "      filter: drop-shadow(0px 1px 2px rgba(0, 0, 0, 0.3));\n",
              "      fill: #FFFFFF;\n",
              "    }\n",
              "  </style>\n",
              "\n",
              "      <script>\n",
              "        const buttonEl =\n",
              "          document.querySelector('#df-5f4fdc32-9d70-40fb-947f-7ec0a9801210 button.colab-df-convert');\n",
              "        buttonEl.style.display =\n",
              "          google.colab.kernel.accessAllowed ? 'block' : 'none';\n",
              "\n",
              "        async function convertToInteractive(key) {\n",
              "          const element = document.querySelector('#df-5f4fdc32-9d70-40fb-947f-7ec0a9801210');\n",
              "          const dataTable =\n",
              "            await google.colab.kernel.invokeFunction('convertToInteractive',\n",
              "                                                     [key], {});\n",
              "          if (!dataTable) return;\n",
              "\n",
              "          const docLinkHtml = 'Like what you see? Visit the ' +\n",
              "            '<a target=\"_blank\" href=https://colab.research.google.com/notebooks/data_table.ipynb>data table notebook</a>'\n",
              "            + ' to learn more about interactive tables.';\n",
              "          element.innerHTML = '';\n",
              "          dataTable['output_type'] = 'display_data';\n",
              "          await google.colab.output.renderOutput(dataTable, element);\n",
              "          const docLink = document.createElement('div');\n",
              "          docLink.innerHTML = docLinkHtml;\n",
              "          element.appendChild(docLink);\n",
              "        }\n",
              "      </script>\n",
              "    </div>\n",
              "  </div>\n",
              "  "
            ]
          },
          "metadata": {},
          "execution_count": 457
        }
      ]
    },
    {
      "cell_type": "code",
      "source": [
        "# Analyzing the dataset\n",
        "dataset.info()"
      ],
      "metadata": {
        "colab": {
          "base_uri": "https://localhost:8080/"
        },
        "id": "PGR9SfFsXmNP",
        "outputId": "db095319-146c-486f-9b81-8deab86d66aa"
      },
      "execution_count": null,
      "outputs": [
        {
          "output_type": "stream",
          "name": "stdout",
          "text": [
            "<class 'pandas.core.frame.DataFrame'>\n",
            "RangeIndex: 43400 entries, 0 to 43399\n",
            "Data columns (total 15 columns):\n",
            " #   Column          Non-Null Count  Dtype  \n",
            "---  ------          --------------  -----  \n",
            " 0   id              43400 non-null  int64  \n",
            " 1   gender          43400 non-null  object \n",
            " 2   age             43400 non-null  float64\n",
            " 3   married         43400 non-null  object \n",
            " 4   hypertension    43400 non-null  int64  \n",
            " 5   heart_disease   43400 non-null  int64  \n",
            " 6   occupation      43400 non-null  object \n",
            " 7   residence       43400 non-null  object \n",
            " 8   metric_1        43400 non-null  float64\n",
            " 9   metric_2        41938 non-null  float64\n",
            " 10  metric_3        43400 non-null  int64  \n",
            " 11  metric_4        43400 non-null  float64\n",
            " 12  metric_5        43400 non-null  float64\n",
            " 13  smoking_status  30108 non-null  object \n",
            " 14  stroke          43400 non-null  int64  \n",
            "dtypes: float64(5), int64(5), object(5)\n",
            "memory usage: 5.0+ MB\n"
          ]
        }
      ]
    },
    {
      "cell_type": "code",
      "source": [
        "# get the unique values of columns\n",
        "print(dataset['gender'].unique())\n",
        "print(dataset['married'].unique())\n",
        "print(dataset['occupation'].unique())\n",
        "print(dataset['residence'].unique())\n",
        "print(dataset['smoking_status'].unique())"
      ],
      "metadata": {
        "colab": {
          "base_uri": "https://localhost:8080/"
        },
        "id": "I_Hb7Z76XrK_",
        "outputId": "df54c220-43a1-4554-af49-9ea684ad6a5e"
      },
      "execution_count": null,
      "outputs": [
        {
          "output_type": "stream",
          "name": "stdout",
          "text": [
            "['Male' 'Female' 'Other']\n",
            "['No' 'Yes']\n",
            "['A' 'B' 'C' 'D' 'E']\n",
            "['Rural' 'Urban']\n",
            "[nan 'never smoked' 'formerly smoked' 'smokes']\n"
          ]
        }
      ]
    },
    {
      "cell_type": "code",
      "source": [
        "# convert the categorical nominal variables to numerical data\n",
        "gender_converted_variable=pd.get_dummies(dataset['gender']).drop('Other', axis=1)\n",
        "married_converted_variable=pd.get_dummies(dataset['married'],drop_first=True,prefix='married_status')\n",
        "occupation_converted_variable=pd.get_dummies(dataset['occupation'],drop_first=True,prefix='occupation')\n",
        "residence_converted_variable=pd.get_dummies(dataset['residence'],drop_first=True,prefix='residence')\n",
        "\n",
        "dataset=pd.concat([dataset,gender_converted_variable],axis=1)\n",
        "dataset=pd.concat([dataset,married_converted_variable],axis=1)\n",
        "dataset=pd.concat([dataset,occupation_converted_variable],axis=1)\n",
        "dataset=pd.concat([dataset,residence_converted_variable],axis=1)\n",
        "\n",
        "dataset.pop('gender')\n",
        "dataset.pop('married')\n",
        "dataset.pop('occupation')\n",
        "dataset.pop('residence')\n",
        "dataset.pop('id')\n",
        "dataset.head()"
      ],
      "metadata": {
        "colab": {
          "base_uri": "https://localhost:8080/",
          "height": 270
        },
        "id": "RtMtCfP_X0C4",
        "outputId": "6744bf85-8909-402b-d107-1a45e9112649"
      },
      "execution_count": null,
      "outputs": [
        {
          "output_type": "execute_result",
          "data": {
            "text/plain": [
              "    age  hypertension  heart_disease  metric_1  metric_2  metric_3  metric_4  \\\n",
              "0   3.0             0              0     95.12      18.0         1     99.35   \n",
              "1  58.0             1              0     87.96      39.2         1     99.70   \n",
              "2   8.0             0              0    110.89      17.6         0     96.35   \n",
              "3  70.0             0              0     69.04      35.9         0     95.52   \n",
              "4  14.0             0              0    161.28      19.1         1     95.10   \n",
              "\n",
              "   metric_5   smoking_status  stroke  Female  Male  married_status_Yes  \\\n",
              "0     95.12              NaN       0       0     1                   0   \n",
              "1     87.96     never smoked       0       0     1                   1   \n",
              "2    110.89              NaN       0       1     0                   0   \n",
              "3     69.04  formerly smoked       0       1     0                   1   \n",
              "4    161.28              NaN       0       0     1                   0   \n",
              "\n",
              "   occupation_B  occupation_C  occupation_D  occupation_E  residence_Urban  \n",
              "0             0             0             0             0                0  \n",
              "1             1             0             0             0                1  \n",
              "2             1             0             0             0                1  \n",
              "3             1             0             0             0                0  \n",
              "4             0             1             0             0                0  "
            ],
            "text/html": [
              "\n",
              "  <div id=\"df-01dfc310-8567-47e7-98f7-6e1a01cb2acd\">\n",
              "    <div class=\"colab-df-container\">\n",
              "      <div>\n",
              "<style scoped>\n",
              "    .dataframe tbody tr th:only-of-type {\n",
              "        vertical-align: middle;\n",
              "    }\n",
              "\n",
              "    .dataframe tbody tr th {\n",
              "        vertical-align: top;\n",
              "    }\n",
              "\n",
              "    .dataframe thead th {\n",
              "        text-align: right;\n",
              "    }\n",
              "</style>\n",
              "<table border=\"1\" class=\"dataframe\">\n",
              "  <thead>\n",
              "    <tr style=\"text-align: right;\">\n",
              "      <th></th>\n",
              "      <th>age</th>\n",
              "      <th>hypertension</th>\n",
              "      <th>heart_disease</th>\n",
              "      <th>metric_1</th>\n",
              "      <th>metric_2</th>\n",
              "      <th>metric_3</th>\n",
              "      <th>metric_4</th>\n",
              "      <th>metric_5</th>\n",
              "      <th>smoking_status</th>\n",
              "      <th>stroke</th>\n",
              "      <th>Female</th>\n",
              "      <th>Male</th>\n",
              "      <th>married_status_Yes</th>\n",
              "      <th>occupation_B</th>\n",
              "      <th>occupation_C</th>\n",
              "      <th>occupation_D</th>\n",
              "      <th>occupation_E</th>\n",
              "      <th>residence_Urban</th>\n",
              "    </tr>\n",
              "  </thead>\n",
              "  <tbody>\n",
              "    <tr>\n",
              "      <th>0</th>\n",
              "      <td>3.0</td>\n",
              "      <td>0</td>\n",
              "      <td>0</td>\n",
              "      <td>95.12</td>\n",
              "      <td>18.0</td>\n",
              "      <td>1</td>\n",
              "      <td>99.35</td>\n",
              "      <td>95.12</td>\n",
              "      <td>NaN</td>\n",
              "      <td>0</td>\n",
              "      <td>0</td>\n",
              "      <td>1</td>\n",
              "      <td>0</td>\n",
              "      <td>0</td>\n",
              "      <td>0</td>\n",
              "      <td>0</td>\n",
              "      <td>0</td>\n",
              "      <td>0</td>\n",
              "    </tr>\n",
              "    <tr>\n",
              "      <th>1</th>\n",
              "      <td>58.0</td>\n",
              "      <td>1</td>\n",
              "      <td>0</td>\n",
              "      <td>87.96</td>\n",
              "      <td>39.2</td>\n",
              "      <td>1</td>\n",
              "      <td>99.70</td>\n",
              "      <td>87.96</td>\n",
              "      <td>never smoked</td>\n",
              "      <td>0</td>\n",
              "      <td>0</td>\n",
              "      <td>1</td>\n",
              "      <td>1</td>\n",
              "      <td>1</td>\n",
              "      <td>0</td>\n",
              "      <td>0</td>\n",
              "      <td>0</td>\n",
              "      <td>1</td>\n",
              "    </tr>\n",
              "    <tr>\n",
              "      <th>2</th>\n",
              "      <td>8.0</td>\n",
              "      <td>0</td>\n",
              "      <td>0</td>\n",
              "      <td>110.89</td>\n",
              "      <td>17.6</td>\n",
              "      <td>0</td>\n",
              "      <td>96.35</td>\n",
              "      <td>110.89</td>\n",
              "      <td>NaN</td>\n",
              "      <td>0</td>\n",
              "      <td>1</td>\n",
              "      <td>0</td>\n",
              "      <td>0</td>\n",
              "      <td>1</td>\n",
              "      <td>0</td>\n",
              "      <td>0</td>\n",
              "      <td>0</td>\n",
              "      <td>1</td>\n",
              "    </tr>\n",
              "    <tr>\n",
              "      <th>3</th>\n",
              "      <td>70.0</td>\n",
              "      <td>0</td>\n",
              "      <td>0</td>\n",
              "      <td>69.04</td>\n",
              "      <td>35.9</td>\n",
              "      <td>0</td>\n",
              "      <td>95.52</td>\n",
              "      <td>69.04</td>\n",
              "      <td>formerly smoked</td>\n",
              "      <td>0</td>\n",
              "      <td>1</td>\n",
              "      <td>0</td>\n",
              "      <td>1</td>\n",
              "      <td>1</td>\n",
              "      <td>0</td>\n",
              "      <td>0</td>\n",
              "      <td>0</td>\n",
              "      <td>0</td>\n",
              "    </tr>\n",
              "    <tr>\n",
              "      <th>4</th>\n",
              "      <td>14.0</td>\n",
              "      <td>0</td>\n",
              "      <td>0</td>\n",
              "      <td>161.28</td>\n",
              "      <td>19.1</td>\n",
              "      <td>1</td>\n",
              "      <td>95.10</td>\n",
              "      <td>161.28</td>\n",
              "      <td>NaN</td>\n",
              "      <td>0</td>\n",
              "      <td>0</td>\n",
              "      <td>1</td>\n",
              "      <td>0</td>\n",
              "      <td>0</td>\n",
              "      <td>1</td>\n",
              "      <td>0</td>\n",
              "      <td>0</td>\n",
              "      <td>0</td>\n",
              "    </tr>\n",
              "  </tbody>\n",
              "</table>\n",
              "</div>\n",
              "      <button class=\"colab-df-convert\" onclick=\"convertToInteractive('df-01dfc310-8567-47e7-98f7-6e1a01cb2acd')\"\n",
              "              title=\"Convert this dataframe to an interactive table.\"\n",
              "              style=\"display:none;\">\n",
              "        \n",
              "  <svg xmlns=\"http://www.w3.org/2000/svg\" height=\"24px\"viewBox=\"0 0 24 24\"\n",
              "       width=\"24px\">\n",
              "    <path d=\"M0 0h24v24H0V0z\" fill=\"none\"/>\n",
              "    <path d=\"M18.56 5.44l.94 2.06.94-2.06 2.06-.94-2.06-.94-.94-2.06-.94 2.06-2.06.94zm-11 1L8.5 8.5l.94-2.06 2.06-.94-2.06-.94L8.5 2.5l-.94 2.06-2.06.94zm10 10l.94 2.06.94-2.06 2.06-.94-2.06-.94-.94-2.06-.94 2.06-2.06.94z\"/><path d=\"M17.41 7.96l-1.37-1.37c-.4-.4-.92-.59-1.43-.59-.52 0-1.04.2-1.43.59L10.3 9.45l-7.72 7.72c-.78.78-.78 2.05 0 2.83L4 21.41c.39.39.9.59 1.41.59.51 0 1.02-.2 1.41-.59l7.78-7.78 2.81-2.81c.8-.78.8-2.07 0-2.86zM5.41 20L4 18.59l7.72-7.72 1.47 1.35L5.41 20z\"/>\n",
              "  </svg>\n",
              "      </button>\n",
              "      \n",
              "  <style>\n",
              "    .colab-df-container {\n",
              "      display:flex;\n",
              "      flex-wrap:wrap;\n",
              "      gap: 12px;\n",
              "    }\n",
              "\n",
              "    .colab-df-convert {\n",
              "      background-color: #E8F0FE;\n",
              "      border: none;\n",
              "      border-radius: 50%;\n",
              "      cursor: pointer;\n",
              "      display: none;\n",
              "      fill: #1967D2;\n",
              "      height: 32px;\n",
              "      padding: 0 0 0 0;\n",
              "      width: 32px;\n",
              "    }\n",
              "\n",
              "    .colab-df-convert:hover {\n",
              "      background-color: #E2EBFA;\n",
              "      box-shadow: 0px 1px 2px rgba(60, 64, 67, 0.3), 0px 1px 3px 1px rgba(60, 64, 67, 0.15);\n",
              "      fill: #174EA6;\n",
              "    }\n",
              "\n",
              "    [theme=dark] .colab-df-convert {\n",
              "      background-color: #3B4455;\n",
              "      fill: #D2E3FC;\n",
              "    }\n",
              "\n",
              "    [theme=dark] .colab-df-convert:hover {\n",
              "      background-color: #434B5C;\n",
              "      box-shadow: 0px 1px 3px 1px rgba(0, 0, 0, 0.15);\n",
              "      filter: drop-shadow(0px 1px 2px rgba(0, 0, 0, 0.3));\n",
              "      fill: #FFFFFF;\n",
              "    }\n",
              "  </style>\n",
              "\n",
              "      <script>\n",
              "        const buttonEl =\n",
              "          document.querySelector('#df-01dfc310-8567-47e7-98f7-6e1a01cb2acd button.colab-df-convert');\n",
              "        buttonEl.style.display =\n",
              "          google.colab.kernel.accessAllowed ? 'block' : 'none';\n",
              "\n",
              "        async function convertToInteractive(key) {\n",
              "          const element = document.querySelector('#df-01dfc310-8567-47e7-98f7-6e1a01cb2acd');\n",
              "          const dataTable =\n",
              "            await google.colab.kernel.invokeFunction('convertToInteractive',\n",
              "                                                     [key], {});\n",
              "          if (!dataTable) return;\n",
              "\n",
              "          const docLinkHtml = 'Like what you see? Visit the ' +\n",
              "            '<a target=\"_blank\" href=https://colab.research.google.com/notebooks/data_table.ipynb>data table notebook</a>'\n",
              "            + ' to learn more about interactive tables.';\n",
              "          element.innerHTML = '';\n",
              "          dataTable['output_type'] = 'display_data';\n",
              "          await google.colab.output.renderOutput(dataTable, element);\n",
              "          const docLink = document.createElement('div');\n",
              "          docLink.innerHTML = docLinkHtml;\n",
              "          element.appendChild(docLink);\n",
              "        }\n",
              "      </script>\n",
              "    </div>\n",
              "  </div>\n",
              "  "
            ]
          },
          "metadata": {},
          "execution_count": 460
        }
      ]
    },
    {
      "cell_type": "code",
      "source": [
        "# convert categorical ordinal variable into numeric data\n",
        "smoking_converted_variable=dataset['smoking_status'].map({'never smoked':0, 'formerly smoked':0.5, 'smokes':1})\n",
        "dataset.pop('smoking_status')\n",
        "dataset=pd.concat([dataset,smoking_converted_variable],axis=1)\n",
        "print(dataset['smoking_status'].unique())"
      ],
      "metadata": {
        "colab": {
          "base_uri": "https://localhost:8080/"
        },
        "id": "f8PbWhvQX9_i",
        "outputId": "fde8ecd1-a867-46d6-ae2c-b355f5acc8b5"
      },
      "execution_count": null,
      "outputs": [
        {
          "output_type": "stream",
          "name": "stdout",
          "text": [
            "[nan 0.  0.5 1. ]\n"
          ]
        }
      ]
    },
    {
      "cell_type": "code",
      "source": [
        "# look at data dypes of variables. convert binary variables into object type to avoid standardizing them\n",
        "dataset.dtypes"
      ],
      "metadata": {
        "colab": {
          "base_uri": "https://localhost:8080/"
        },
        "id": "7ryUdnlCYM9w",
        "outputId": "280e88a4-a696-4e79-b4fc-794be65674e3"
      },
      "execution_count": null,
      "outputs": [
        {
          "output_type": "execute_result",
          "data": {
            "text/plain": [
              "age                   float64\n",
              "hypertension            int64\n",
              "heart_disease           int64\n",
              "metric_1              float64\n",
              "metric_2              float64\n",
              "metric_3                int64\n",
              "metric_4              float64\n",
              "metric_5              float64\n",
              "stroke                  int64\n",
              "Female                  uint8\n",
              "Male                    uint8\n",
              "married_status_Yes      uint8\n",
              "occupation_B            uint8\n",
              "occupation_C            uint8\n",
              "occupation_D            uint8\n",
              "occupation_E            uint8\n",
              "residence_Urban         uint8\n",
              "smoking_status        float64\n",
              "dtype: object"
            ]
          },
          "metadata": {},
          "execution_count": 462
        }
      ]
    },
    {
      "cell_type": "code",
      "source": [
        "# convert the binary variables to type object as we will not standardize these columns.\n",
        "categorical_vars=['hypertension','heart_disease','metric_3','stroke','Male', 'Female','married_status_Yes' ,'occupation_B','occupation_C','occupation_D','occupation_E','residence_Urban']\n",
        "dataset[categorical_vars]=dataset[categorical_vars].astype(str)\n",
        "dataset.dtypes"
      ],
      "metadata": {
        "colab": {
          "base_uri": "https://localhost:8080/"
        },
        "id": "ufVs6P0FYnL5",
        "outputId": "85d81702-78e9-44c4-bf03-f93a0c020444"
      },
      "execution_count": null,
      "outputs": [
        {
          "output_type": "execute_result",
          "data": {
            "text/plain": [
              "age                   float64\n",
              "hypertension           object\n",
              "heart_disease          object\n",
              "metric_1              float64\n",
              "metric_2              float64\n",
              "metric_3               object\n",
              "metric_4              float64\n",
              "metric_5              float64\n",
              "stroke                 object\n",
              "Female                 object\n",
              "Male                   object\n",
              "married_status_Yes     object\n",
              "occupation_B           object\n",
              "occupation_C           object\n",
              "occupation_D           object\n",
              "occupation_E           object\n",
              "residence_Urban        object\n",
              "smoking_status        float64\n",
              "dtype: object"
            ]
          },
          "metadata": {},
          "execution_count": 463
        }
      ]
    },
    {
      "cell_type": "code",
      "source": [
        "# Understand the imbalance in the data\n",
        "label_count = dataset.stroke.value_counts()\n",
        "print('Class 0 : ', label_count[0])\n",
        "print('Class 1 : ', label_count[1])\n",
        "print('ratio of minority class to majority class is -  1 : {}'.format(label_count[0]/label_count[1]))"
      ],
      "metadata": {
        "colab": {
          "base_uri": "https://localhost:8080/"
        },
        "id": "coAvJjl1fAn9",
        "outputId": "8bbf00c3-038a-4af5-cdc6-f8018a778318"
      },
      "execution_count": null,
      "outputs": [
        {
          "output_type": "stream",
          "name": "stdout",
          "text": [
            "Class 0 :  42617\n",
            "Class 1 :  783\n",
            "ratio of minority class to majority class is -  1 : 54.427841634738186\n"
          ]
        }
      ]
    },
    {
      "cell_type": "code",
      "source": [
        "label_count.plot(kind='bar',title='Plot of Stroke Class vs Frequency')\n",
        "plt.xlabel('Stroke Class')\n",
        "plt.ylabel('Frequency')"
      ],
      "metadata": {
        "colab": {
          "base_uri": "https://localhost:8080/",
          "height": 485
        },
        "id": "V1Vub5e4f3B0",
        "outputId": "25fe97b5-c434-441b-ecbb-77fd6ef2b761"
      },
      "execution_count": null,
      "outputs": [
        {
          "output_type": "execute_result",
          "data": {
            "text/plain": [
              "Text(0, 0.5, 'Frequency')"
            ]
          },
          "metadata": {},
          "execution_count": 465
        },
        {
          "output_type": "display_data",
          "data": {
            "text/plain": [
              "<Figure size 640x480 with 1 Axes>"
            ],
            "image/png": "[encoded data removed]"
          },
          "metadata": {}
        }
      ]
    },
    {
      "cell_type": "code",
      "source": [
        "print(dataset.isna().sum())"
      ],
      "metadata": {
        "colab": {
          "base_uri": "https://localhost:8080/"
        },
        "id": "FiboNJJze2s5",
        "outputId": "67db7e00-e866-46a1-80ff-6719131f9133"
      },
      "execution_count": null,
      "outputs": [
        {
          "output_type": "stream",
          "name": "stdout",
          "text": [
            "age                       0\n",
            "hypertension              0\n",
            "heart_disease             0\n",
            "metric_1                  0\n",
            "metric_2               1462\n",
            "metric_3                  0\n",
            "metric_4                  0\n",
            "metric_5                  0\n",
            "stroke                    0\n",
            "Female                    0\n",
            "Male                      0\n",
            "married_status_Yes        0\n",
            "occupation_B              0\n",
            "occupation_C              0\n",
            "occupation_D              0\n",
            "occupation_E              0\n",
            "residence_Urban           0\n",
            "smoking_status        13292\n",
            "dtype: int64\n"
          ]
        }
      ]
    },
    {
      "cell_type": "code",
      "source": [
        "# Droping rows having null values reduces the strokes by around 20%. Due to less data it would be better to drop the columns rather that null-value rows\n",
        "# dataset.dropna(axis=0, how='all', subset=['metric_2'], inplace=True)\n",
        "# dataset.dropna(axis=0, how='all', subset=['smoking_status'], inplace=True)\n",
        "\n",
        "dataset.pop('metric_2')\n",
        "dataset.pop('smoking_status')\n",
        "\n",
        "print(dataset.head())"
      ],
      "metadata": {
        "colab": {
          "base_uri": "https://localhost:8080/"
        },
        "id": "j6lNJODNe7Gx",
        "outputId": "a9b1edd8-3783-45a8-fc6e-bb4982b3a0b3"
      },
      "execution_count": null,
      "outputs": [
        {
          "output_type": "stream",
          "name": "stdout",
          "text": [
            "    age hypertension heart_disease  metric_1 metric_3  metric_4  metric_5  \\\n",
            "0   3.0            0             0     95.12        1     99.35     95.12   \n",
            "1  58.0            1             0     87.96        1     99.70     87.96   \n",
            "2   8.0            0             0    110.89        0     96.35    110.89   \n",
            "3  70.0            0             0     69.04        0     95.52     69.04   \n",
            "4  14.0            0             0    161.28        1     95.10    161.28   \n",
            "\n",
            "  stroke Female Male married_status_Yes occupation_B occupation_C  \\\n",
            "0      0      0    1                  0            0            0   \n",
            "1      0      0    1                  1            1            0   \n",
            "2      0      1    0                  0            1            0   \n",
            "3      0      1    0                  1            1            0   \n",
            "4      0      0    1                  0            0            1   \n",
            "\n",
            "  occupation_D occupation_E residence_Urban  \n",
            "0            0            0               0  \n",
            "1            0            0               1  \n",
            "2            0            0               1  \n",
            "3            0            0               0  \n",
            "4            0            0               0  \n"
          ]
        }
      ]
    },
    {
      "cell_type": "code",
      "source": [
        "# Droping redundant columns which should not affect the chances of stroke\n",
        "dataset = dataset.drop(['married_status_Yes', 'occupation_B', 'occupation_C', 'occupation_D', 'occupation_E'], axis=1)"
      ],
      "metadata": {
        "id": "FWpXq08QncBB"
      },
      "execution_count": null,
      "outputs": []
    },
    {
      "cell_type": "code",
      "source": [
        "# standardize the numeric data (not the binary data)\n",
        "from sklearn.preprocessing import StandardScaler\n",
        "\n",
        "# get the numeric columns\n",
        "numeric_columns = dataset.select_dtypes(exclude=['object']).columns\n",
        "print('non-binary numeric columns - {}'.format(numeric_columns))\n",
        "\n",
        "for col in numeric_columns:\n",
        "  temp = dataset[col]\n",
        "  temp = temp.values.reshape(-1,1) # convert column into numpy array for stnadardization\n",
        "  dataset['norm_'+col] = StandardScaler().fit_transform(temp) # standarzize\n",
        "  dataset = dataset.drop([col],axis=1) # drop original column\n",
        "\n",
        "print(dataset.head())"
      ],
      "metadata": {
        "colab": {
          "base_uri": "https://localhost:8080/"
        },
        "id": "nJGg63CFYp33",
        "outputId": "a7ccea7e-8780-4eac-ee4e-936d6372e2ee"
      },
      "execution_count": null,
      "outputs": [
        {
          "output_type": "stream",
          "name": "stdout",
          "text": [
            "non-binary numeric columns - Index(['age', 'metric_1', 'metric_4', 'metric_5'], dtype='object')\n",
            "  hypertension heart_disease metric_3 stroke Female Male residence_Urban  \\\n",
            "0            0             0        1      0      0    1               0   \n",
            "1            1             0        1      0      0    1               1   \n",
            "2            0             0        0      0      1    0               1   \n",
            "3            0             0        0      0      1    0               0   \n",
            "4            0             0        1      0      0    1               0   \n",
            "\n",
            "   norm_age  norm_metric_1  norm_metric_4  norm_metric_5  \n",
            "0 -1.675064      -0.217176       1.243037      -0.217176  \n",
            "1  0.671489      -0.383258       1.481670      -0.383258  \n",
            "2 -1.461741       0.148621      -0.802390       0.148621  \n",
            "3  1.183464      -0.822123      -1.368292      -0.822123  \n",
            "4 -1.205753       1.317458      -1.654652       1.317458  \n"
          ]
        }
      ]
    },
    {
      "cell_type": "code",
      "source": [
        "dataset['stroke'] = dataset['stroke'].astype('int')\n",
        "dataset.dtypes"
      ],
      "metadata": {
        "colab": {
          "base_uri": "https://localhost:8080/"
        },
        "id": "pyMscHvFdu8b",
        "outputId": "ec0474f5-f65b-4b87-8f04-b0dff45e6231"
      },
      "execution_count": null,
      "outputs": [
        {
          "output_type": "execute_result",
          "data": {
            "text/plain": [
              "hypertension        object\n",
              "heart_disease       object\n",
              "metric_3            object\n",
              "stroke               int64\n",
              "Female              object\n",
              "Male                object\n",
              "residence_Urban     object\n",
              "norm_age           float64\n",
              "norm_metric_1      float64\n",
              "norm_metric_4      float64\n",
              "norm_metric_5      float64\n",
              "dtype: object"
            ]
          },
          "metadata": {},
          "execution_count": 470
        }
      ]
    },
    {
      "cell_type": "code",
      "source": [
        "# function for splitting the dataset. Stratify stroke column to ensure positive strokes in test data\n",
        "from sklearn.model_selection import train_test_split\n",
        "def splittingData(X, y):\n",
        "    X_train, X_test, y_train, y_test = train_test_split(X, y, test_size=0.2, stratify=dataset[['stroke']], random_state=42)\n",
        "    return X_train,X_test,y_train,y_test"
      ],
      "metadata": {
        "id": "9X6FFh9uf6ez"
      },
      "execution_count": null,
      "outputs": []
    },
    {
      "cell_type": "code",
      "source": [
        "# split the dataset\n",
        "X = dataset.drop('stroke', axis=1).values\n",
        "y = dataset['stroke'].values\n",
        "\n",
        "X_train, X_test, y_train, y_test = splittingData(X, y)"
      ],
      "metadata": {
        "id": "dVIX_m_syLuE"
      },
      "execution_count": null,
      "outputs": []
    },
    {
      "cell_type": "code",
      "source": [
        "# Resample only the training dataset and not the test dataset\n",
        "# oversampling and undersampling using smote and Tomek links\n",
        "from imblearn.combine import SMOTETomek\n",
        "\n",
        "smt = SMOTETomek(sampling_strategy='auto')\n",
        "X_train, y_train = smt.fit_resample(X_train, y_train)\n",
        "\n",
        "df = pd.DataFrame(y_train, columns=['stroke'])\n",
        "df.stroke.value_counts().plot(kind='bar',title='Stroke Class Distribution after resampling using Smote and Tomek links\\n')\n",
        "plt.xlabel('Stroke Class\\n')\n",
        "plt.ylabel('Frequency\\n')"
      ],
      "metadata": {
        "colab": {
          "base_uri": "https://localhost:8080/",
          "height": 522
        },
        "id": "A3ya5y-FslgA",
        "outputId": "4a319fdc-edb0-4524-f44e-df2a237e8b12"
      },
      "execution_count": null,
      "outputs": [
        {
          "output_type": "execute_result",
          "data": {
            "text/plain": [
              "Text(0, 0.5, 'Frequency\\n')"
            ]
          },
          "metadata": {},
          "execution_count": 473
        },
        {
          "output_type": "display_data",
          "data": {
            "text/plain": [
              "<Figure size 640x480 with 1 Axes>"
            ],
            "image/png": "[encoded data removed]"
          },
          "metadata": {}
        }
      ]
    },
    {
      "cell_type": "code",
      "source": [
        "from sklearn.metrics import accuracy_score, confusion_matrix, ConfusionMatrixDisplay, recall_score, classification_report, precision_score\n",
        "from sklearn.linear_model import LogisticRegression\n",
        "from sklearn.ensemble import RandomForestClassifier, AdaBoostClassifier\n",
        "from sklearn.tree import DecisionTreeClassifier\n",
        "from sklearn.metrics import RocCurveDisplay"
      ],
      "metadata": {
        "id": "tLbytyfXgXo9"
      },
      "execution_count": null,
      "outputs": []
    },
    {
      "cell_type": "code",
      "source": [
        "# create a function to fit a given model and print its classification report\n",
        "def training_prediction(model_name, model, X_train_set, y_train_set, X_test_set, y_test_set):\n",
        "    model.fit(X_train_set, y_train_set) # fit the given model\n",
        "    y_pred = model.predict(X_test_set)\n",
        "    print(\"Recall Score : \",recall_score(y_test_set, y_pred, average='macro'))\n",
        "    print(\"Classification Report for {0} is as follows\".format(model_name))\n",
        "    print(classification_report(y_test_set, y_pred))\n",
        "    cm = confusion_matrix(y_test, y_pred)\n",
        "    cm_display = ConfusionMatrixDisplay(confusion_matrix = cm, display_labels = ['No Stroke', 'Stroke'])\n",
        "    cm_display.plot()\n",
        "    plt.show()"
      ],
      "metadata": {
        "id": "ZHpw1WbcgqEj"
      },
      "execution_count": null,
      "outputs": []
    },
    {
      "cell_type": "code",
      "source": [
        "# selecting logistic regression as a generalized linear classifier for binary classification\n",
        "logisticRegressionModel = LogisticRegression(solver='liblinear', class_weight='balanced', penalty='l2', C=10)\n",
        "training_prediction('Logistic Regression - SMOTE Token Links\\n', logisticRegressionModel, X_train, y_train, X_test, y_test)\n"
      ],
      "metadata": {
        "id": "U0AIkDKdhGfl",
        "colab": {
          "base_uri": "https://localhost:8080/",
          "height": 666
        },
        "outputId": "e6a51f30-145a-4312-fac6-1bfd758fe1a7"
      },
      "execution_count": null,
      "outputs": [
        {
          "output_type": "stream",
          "name": "stdout",
          "text": [
            "Recall Score :  0.7720353543166449\n",
            "Classification Report for Logistic Regression - SMOTE Token Links\n",
            " is as follows\n",
            "              precision    recall  f1-score   support\n",
            "\n",
            "           0       1.00      0.74      0.85      8523\n",
            "           1       0.05      0.80      0.10       157\n",
            "\n",
            "    accuracy                           0.74      8680\n",
            "   macro avg       0.52      0.77      0.48      8680\n",
            "weighted avg       0.98      0.74      0.84      8680\n",
            "\n"
          ]
        },
        {
          "output_type": "display_data",
          "data": {
            "text/plain": [
              "<Figure size 640x480 with 2 Axes>"
            ],
            "image/png": "[encoded data removed]"
          },
          "metadata": {}
        }
      ]
    },
    {
      "cell_type": "code",
      "source": [
        "# selecting random forest as a classifier\n",
        "\n",
        "X_train, X_test, y_train, y_test = splittingData(X, y)\n",
        "rfModel = RandomForestClassifier(n_estimators=100, max_depth=5, bootstrap=True, criterion='gini', class_weight='balanced')\n",
        "training_prediction('Random Forest - SMOTE Token Links \\n', rfModel, X_train, y_train, X_test, y_test)\n"
      ],
      "metadata": {
        "id": "xTHbdUNfifE5",
        "outputId": "9f6e6834-9ccb-42ed-96c5-6c1d9e7acab1",
        "colab": {
          "base_uri": "https://localhost:8080/",
          "height": 666
        }
      },
      "execution_count": null,
      "outputs": [
        {
          "output_type": "stream",
          "name": "stdout",
          "text": [
            "Recall Score :  0.7612828831090994\n",
            "Classification Report for Random Forest - SMOTE Token Links \n",
            " is as follows\n",
            "              precision    recall  f1-score   support\n",
            "\n",
            "           0       0.99      0.73      0.84      8523\n",
            "           1       0.05      0.80      0.10       157\n",
            "\n",
            "    accuracy                           0.73      8680\n",
            "   macro avg       0.52      0.76      0.47      8680\n",
            "weighted avg       0.98      0.73      0.83      8680\n",
            "\n"
          ]
        },
        {
          "output_type": "display_data",
          "data": {
            "text/plain": [
              "<Figure size 640x480 with 2 Axes>"
            ],
            "image/png": "[encoded data removed]"
          },
          "metadata": {}
        }
      ]
    },
    {
      "cell_type": "code",
      "source": [
        "# Isolation forest does not require training data to be resampled\n",
        "\n",
        "# split the dataset\n",
        "X = dataset.drop('stroke', axis=1).values\n",
        "y = dataset['stroke'].values\n",
        "\n",
        "X_train, X_test, y_train, y_test = splittingData(X, y)\n",
        "\n",
        "# calculate ratio of majority over minority class\n",
        "count_class_0 = (y_train == 0).sum()\n",
        "count_class_1 = (y_train == 1).sum()\n",
        "ratio = count_class_0/count_class_1\n",
        "\n",
        "# print(ratio)\n",
        "\n",
        "from sklearn.ensemble import IsolationForest\n",
        "if_model = IsolationForest(n_estimators=100, contamination=1/ratio+0.00015)\n",
        "\n",
        "mod_X_Train = X_train[y_train==0]\n",
        "if_model.fit(mod_X_Train)\n",
        "# detect outliers in the test set\n",
        "yhat = if_model.predict(X_test)\n",
        "# mark inliers 1, outliers -1\n",
        "y_test[y_test == 1] = -1\n",
        "y_test[y_test == 0] = 1\n",
        "\n",
        "print(classification_report(y_test, yhat))\n",
        "cm = confusion_matrix(yhat, y_test)\n",
        "cm_display = ConfusionMatrixDisplay(confusion_matrix = cm, display_labels = ['Stroke', 'No Stroke'])\n",
        "cm_display.plot()\n",
        "plt.show()"
      ],
      "metadata": {
        "id": "5uW30IjtgdJ-",
        "outputId": "8cece78e-304f-4146-bb4e-37b3f2743fb6",
        "colab": {
          "base_uri": "https://localhost:8080/",
          "height": 612
        }
      },
      "execution_count": null,
      "outputs": [
        {
          "output_type": "stream",
          "name": "stdout",
          "text": [
            "              precision    recall  f1-score   support\n",
            "\n",
            "          -1       0.09      0.10      0.10       157\n",
            "           1       0.98      0.98      0.98      8523\n",
            "\n",
            "    accuracy                           0.97      8680\n",
            "   macro avg       0.54      0.54      0.54      8680\n",
            "weighted avg       0.97      0.97      0.97      8680\n",
            "\n"
          ]
        },
        {
          "output_type": "display_data",
          "data": {
            "text/plain": [
              "<Figure size 640x480 with 2 Axes>"
            ],
            "image/png": "[encoded data removed]"
          },
          "metadata": {}
        }
      ]
    }
  ]
}